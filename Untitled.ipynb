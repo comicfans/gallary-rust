{
 "cells": [
  {
   "cell_type": "code",
   "execution_count": 1,
   "id": "ada822ce-3463-41e9-9b8b-bb0a7ea735ae",
   "metadata": {},
   "outputs": [],
   "source": [
    "from deltalake import DeltaTable\n",
    "from deltalake import write_deltalake\n",
    "import pandas as pd"
   ]
  },
  {
   "cell_type": "code",
   "execution_count": 2,
   "id": "1ddb4f6a-1d99-4eeb-b367-5907fcb52d04",
   "metadata": {},
   "outputs": [],
   "source": [
    "df = pd.DataFrame({ 'path': ['ads']})"
   ]
  },
  {
   "cell_type": "code",
   "execution_count": 3,
   "id": "4c3d8c09-bcbc-4589-9ab1-f1ee26060572",
   "metadata": {},
   "outputs": [
    {
     "data": {
      "text/plain": [
       "'/home/xwang/project/gallary-rust'"
      ]
     },
     "execution_count": 3,
     "metadata": {},
     "output_type": "execute_result"
    }
   ],
   "source": [
    "import os\n",
    "os.getcwd()"
   ]
  },
  {
   "cell_type": "code",
   "execution_count": 16,
   "id": "36bcffc8-1dfc-444c-813d-9f2531777543",
   "metadata": {},
   "outputs": [
    {
     "name": "stdout",
     "output_type": "stream",
     "text": [
      "Collecting polars\n",
      "  Downloading polars-1.29.0-cp39-abi3-manylinux_2_17_x86_64.manylinux2014_x86_64.whl (34.8 MB)\n",
      "\u001b[2K     \u001b[38;2;114;156;31m━━━━━━━━━━━━━━━━━━━━━━━━━━━━━━━━━━━━━━━━\u001b[0m \u001b[32m34.8/34.8 MB\u001b[0m \u001b[31m53.9 MB/s\u001b[0m eta \u001b[36m0:00:00\u001b[0mm eta \u001b[36m0:00:01\u001b[0m[36m0:00:01\u001b[0m\n",
      "Installing collected packages: polars\n",
      "Successfully installed polars-1.29.0\n",
      "Note: you may need to restart the kernel to use updated packages.\n"
     ]
    }
   ],
   "source": [
    "pip install --user polars"
   ]
  },
  {
   "cell_type": "code",
   "execution_count": 9,
   "id": "1a7ad860-0f6d-4489-9916-f782a5509304",
   "metadata": {},
   "outputs": [
    {
     "ename": "DeltaError",
     "evalue": "Generic error: A table already exists at: /home/xwang/project/gallary-rust/here/",
     "output_type": "error",
     "traceback": [
      "\u001b[0;31m---------------------------------------------------------------------------\u001b[0m",
      "\u001b[0;31mDeltaError\u001b[0m                                Traceback (most recent call last)",
      "\u001b[0;32m/tmp/ipykernel_2758127/2395871429.py\u001b[0m in \u001b[0;36m<module>\u001b[0;34m\u001b[0m\n\u001b[0;32m----> 1\u001b[0;31m \u001b[0mwrite_deltalake\u001b[0m\u001b[0;34m(\u001b[0m\u001b[0;34m'here'\u001b[0m\u001b[0;34m,\u001b[0m \u001b[0mdf\u001b[0m\u001b[0;34m)\u001b[0m\u001b[0;34m\u001b[0m\u001b[0;34m\u001b[0m\u001b[0m\n\u001b[0m",
      "\u001b[0;32m~/.local/lib/python3.10/site-packages/deltalake/writer.py\u001b[0m in \u001b[0;36mwrite_deltalake\u001b[0;34m(table_or_uri, data, schema, partition_by, mode, file_options, max_partitions, max_open_files, max_rows_per_file, min_rows_per_group, max_rows_per_group, name, description, configuration, schema_mode, storage_options, partition_filters, predicate, target_file_size, large_dtypes, engine, writer_properties, custom_metadata, post_commithook_properties, commit_properties)\u001b[0m\n\u001b[1;32m    322\u001b[0m         \u001b[0mdata\u001b[0m \u001b[0;34m=\u001b[0m \u001b[0mRecordBatchReader\u001b[0m\u001b[0;34m.\u001b[0m\u001b[0mfrom_batches\u001b[0m\u001b[0;34m(\u001b[0m\u001b[0mschema\u001b[0m\u001b[0;34m,\u001b[0m \u001b[0;34m(\u001b[0m\u001b[0mbatch\u001b[0m \u001b[0;32mfor\u001b[0m \u001b[0mbatch\u001b[0m \u001b[0;32min\u001b[0m \u001b[0mdata\u001b[0m\u001b[0;34m)\u001b[0m\u001b[0;34m)\u001b[0m\u001b[0;34m\u001b[0m\u001b[0;34m\u001b[0m\u001b[0m\n\u001b[1;32m    323\u001b[0m         \u001b[0;32mif\u001b[0m \u001b[0mtable\u001b[0m\u001b[0;34m:\u001b[0m\u001b[0;34m\u001b[0m\u001b[0;34m\u001b[0m\u001b[0m\n\u001b[0;32m--> 324\u001b[0;31m             table._table.write(\n\u001b[0m\u001b[1;32m    325\u001b[0m                 \u001b[0mdata\u001b[0m\u001b[0;34m=\u001b[0m\u001b[0mdata\u001b[0m\u001b[0;34m,\u001b[0m\u001b[0;34m\u001b[0m\u001b[0;34m\u001b[0m\u001b[0m\n\u001b[1;32m    326\u001b[0m                 \u001b[0mpartition_by\u001b[0m\u001b[0;34m=\u001b[0m\u001b[0mpartition_by\u001b[0m\u001b[0;34m,\u001b[0m\u001b[0;34m\u001b[0m\u001b[0;34m\u001b[0m\u001b[0m\n",
      "\u001b[0;31mDeltaError\u001b[0m: Generic error: A table already exists at: /home/xwang/project/gallary-rust/here/"
     ]
    }
   ],
   "source": [
    "write_deltalake('here', df)"
   ]
  },
  {
   "cell_type": "code",
   "execution_count": 17,
   "id": "85e2034b-757a-4ec9-b560-f0df17030aec",
   "metadata": {},
   "outputs": [],
   "source": [
    "import polars"
   ]
  },
  {
   "cell_type": "code",
   "execution_count": 19,
   "id": "8163cf03-b915-4bfe-a984-44165701a493",
   "metadata": {},
   "outputs": [],
   "source": [
    "df=polars.read_delta(\"here\")"
   ]
  },
  {
   "cell_type": "code",
   "execution_count": 20,
   "id": "a26449d2-9b98-4784-be5f-50f8355145a5",
   "metadata": {},
   "outputs": [
    {
     "data": {
      "text/html": [
       "<div><style>\n",
       ".dataframe > thead > tr,\n",
       ".dataframe > tbody > tr {\n",
       "  text-align: right;\n",
       "  white-space: pre-wrap;\n",
       "}\n",
       "</style>\n",
       "<small>shape: (6, 1)</small><table border=\"1\" class=\"dataframe\"><thead><tr><th>path</th></tr><tr><td>str</td></tr></thead><tbody><tr><td>&quot;ads&quot;</td></tr><tr><td>&quot;ads&quot;</td></tr><tr><td>&quot;ads&quot;</td></tr><tr><td>&quot;ads&quot;</td></tr><tr><td>&quot;ads&quot;</td></tr><tr><td>&quot;ads&quot;</td></tr></tbody></table></div>"
      ],
      "text/plain": [
       "shape: (6, 1)\n",
       "┌──────┐\n",
       "│ path │\n",
       "│ ---  │\n",
       "│ str  │\n",
       "╞══════╡\n",
       "│ ads  │\n",
       "│ ads  │\n",
       "│ ads  │\n",
       "│ ads  │\n",
       "│ ads  │\n",
       "│ ads  │\n",
       "└──────┘"
      ]
     },
     "execution_count": 20,
     "metadata": {},
     "output_type": "execute_result"
    }
   ],
   "source": [
    "df"
   ]
  },
  {
   "cell_type": "code",
   "execution_count": 11,
   "id": "edb8ffd4-f044-498b-b6ac-b6ece7f5f12d",
   "metadata": {},
   "outputs": [],
   "source": [
    "write_deltalake(\"here\", df, mode=\"append\")"
   ]
  },
  {
   "cell_type": "code",
   "execution_count": 12,
   "id": "c019dd18-e2d9-40c4-8ed4-71d3f236c664",
   "metadata": {},
   "outputs": [],
   "source": [
    "a=DeltaTable(\"here\")"
   ]
  },
  {
   "cell_type": "code",
   "execution_count": 14,
   "id": "bc328dab-5949-4095-b07a-9c0f2f49bc4a",
   "metadata": {},
   "outputs": [
    {
     "data": {
      "text/html": [
       "<div>\n",
       "<style scoped>\n",
       "    .dataframe tbody tr th:only-of-type {\n",
       "        vertical-align: middle;\n",
       "    }\n",
       "\n",
       "    .dataframe tbody tr th {\n",
       "        vertical-align: top;\n",
       "    }\n",
       "\n",
       "    .dataframe thead th {\n",
       "        text-align: right;\n",
       "    }\n",
       "</style>\n",
       "<table border=\"1\" class=\"dataframe\">\n",
       "  <thead>\n",
       "    <tr style=\"text-align: right;\">\n",
       "      <th></th>\n",
       "      <th>path</th>\n",
       "    </tr>\n",
       "  </thead>\n",
       "  <tbody>\n",
       "    <tr>\n",
       "      <th>0</th>\n",
       "      <td>ads</td>\n",
       "    </tr>\n",
       "    <tr>\n",
       "      <th>1</th>\n",
       "      <td>ads</td>\n",
       "    </tr>\n",
       "    <tr>\n",
       "      <th>2</th>\n",
       "      <td>ads</td>\n",
       "    </tr>\n",
       "    <tr>\n",
       "      <th>3</th>\n",
       "      <td>ads</td>\n",
       "    </tr>\n",
       "    <tr>\n",
       "      <th>4</th>\n",
       "      <td>ads</td>\n",
       "    </tr>\n",
       "    <tr>\n",
       "      <th>5</th>\n",
       "      <td>ads</td>\n",
       "    </tr>\n",
       "  </tbody>\n",
       "</table>\n",
       "</div>"
      ],
      "text/plain": [
       "  path\n",
       "0  ads\n",
       "1  ads\n",
       "2  ads\n",
       "3  ads\n",
       "4  ads\n",
       "5  ads"
      ]
     },
     "execution_count": 14,
     "metadata": {},
     "output_type": "execute_result"
    }
   ],
   "source": [
    "a.to_pandas()"
   ]
  },
  {
   "cell_type": "code",
   "execution_count": 13,
   "id": "9ebf400a-88c0-4a61-a210-5242117d2fc3",
   "metadata": {},
   "outputs": [
    {
     "data": {
      "text/plain": [
       "['/home/xwang/project/gallary-rust/here/part-00001-0c3234aa-04a1-43ce-a326-91f5c79308d7-c000.snappy.parquet',\n",
       " '/home/xwang/project/gallary-rust/here/part-00001-1ebbf202-cbac-4ff7-8f99-023871bc8bfb-c000.snappy.parquet',\n",
       " '/home/xwang/project/gallary-rust/here/part-00001-4b479931-a25b-4542-b643-f0e6f21934c6-c000.zstd.parquet']"
      ]
     },
     "execution_count": 13,
     "metadata": {},
     "output_type": "execute_result"
    }
   ],
   "source": [
    "a.file_uris()"
   ]
  },
  {
   "cell_type": "code",
   "execution_count": 15,
   "id": "06b047f3-1581-44e5-b9a6-88f743f5a01b",
   "metadata": {},
   "outputs": [
    {
     "ename": "ModuleNotFoundError",
     "evalue": "No module named 'polars'",
     "output_type": "error",
     "traceback": [
      "\u001b[0;31m---------------------------------------------------------------------------\u001b[0m",
      "\u001b[0;31mModuleNotFoundError\u001b[0m                       Traceback (most recent call last)",
      "\u001b[0;32m/tmp/ipykernel_2758127/1087648309.py\u001b[0m in \u001b[0;36m<module>\u001b[0;34m\u001b[0m\n\u001b[0;32m----> 1\u001b[0;31m \u001b[0;32mimport\u001b[0m \u001b[0mpolars\u001b[0m\u001b[0;34m\u001b[0m\u001b[0;34m\u001b[0m\u001b[0m\n\u001b[0m",
      "\u001b[0;31mModuleNotFoundError\u001b[0m: No module named 'polars'"
     ]
    }
   ],
   "source": [
    "import polars"
   ]
  },
  {
   "cell_type": "code",
   "execution_count": 8,
   "id": "ec77ad46-034e-40ab-8eaf-4665e4c3caeb",
   "metadata": {},
   "outputs": [
    {
     "data": {
      "text/plain": [
       "{'numFilesAdded': 1,\n",
       " 'numFilesRemoved': 4,\n",
       " 'filesAdded': '{\"avg\":466.0,\"max\":466,\"min\":466,\"totalFiles\":1,\"totalSize\":466}',\n",
       " 'filesRemoved': '{\"avg\":451.0,\"max\":451,\"min\":451,\"totalFiles\":4,\"totalSize\":1804}',\n",
       " 'partitionsOptimized': 1,\n",
       " 'numBatches': 4,\n",
       " 'totalConsideredFiles': 4,\n",
       " 'totalFilesSkipped': 0,\n",
       " 'preserveInsertionOrder': True}"
      ]
     },
     "execution_count": 8,
     "metadata": {},
     "output_type": "execute_result"
    }
   ],
   "source": [
    "dt=DeltaTable(\"here\")\n",
    "dt.optimize.compact()"
   ]
  },
  {
   "cell_type": "code",
   "execution_count": 100,
   "id": "bd5a2f5f-8ebc-407b-8e93-8d7895f85330",
   "metadata": {},
   "outputs": [],
   "source": [
    "write_deltalake('here', df,configuration = {\"delta.deletedFileRetentionDuration\":\"interval 1 seconds\"})"
   ]
  },
  {
   "cell_type": "code",
   "execution_count": 46,
   "id": "c3c36427-1f91-4a13-904c-b5ca8e2402b7",
   "metadata": {},
   "outputs": [],
   "source": [
    "import inspect"
   ]
  },
  {
   "cell_type": "code",
   "execution_count": 49,
   "id": "8e1f20c0-c701-40c8-a6a6-e2d85222f827",
   "metadata": {},
   "outputs": [
    {
     "data": {
      "text/plain": [
       "<Signature (table_or_uri: Union[str, pathlib._local.Path, deltalake.table.DeltaTable], data: Union[ForwardRef('pd.DataFrame'), pyarrow._dataset.Dataset, pyarrow.lib.Table, pyarrow.lib.RecordBatch, Iterable[pyarrow.lib.RecordBatch], pyarrow.lib.RecordBatchReader, deltalake.writer.ArrowStreamExportable], *, schema: Union[pyarrow.lib.Schema, deltalake._internal.Schema, NoneType] = None, partition_by: Union[List[str], str, NoneType] = None, mode: Literal['error', 'append', 'overwrite', 'ignore'] = 'error', file_options: Optional[pyarrow._dataset_parquet.ParquetFileWriteOptions] = None, max_partitions: Optional[int] = None, max_open_files: int = 1024, max_rows_per_file: int = 10485760, min_rows_per_group: int = 65536, max_rows_per_group: int = 131072, name: Optional[str] = None, description: Optional[str] = None, configuration: Optional[Mapping[str, Optional[str]]] = None, schema_mode: Optional[Literal['merge', 'overwrite']] = None, storage_options: Optional[Dict[str, str]] = None, partition_filters: Optional[List[Tuple[str, str, Any]]] = None, predicate: Optional[str] = None, target_file_size: Optional[int] = None, large_dtypes: bool = False, engine: Literal['pyarrow', 'rust'] = 'rust', writer_properties: Optional[deltalake.table.WriterProperties] = None, custom_metadata: Optional[Dict[str, str]] = None, post_commithook_properties: Optional[deltalake.table.PostCommitHookProperties] = None, commit_properties: Optional[deltalake.table.CommitProperties] = None) -> None>"
      ]
     },
     "execution_count": 49,
     "metadata": {},
     "output_type": "execute_result"
    }
   ],
   "source": [
    "inspect.signature(write_deltalake)"
   ]
  },
  {
   "cell_type": "code",
   "execution_count": 11,
   "id": "16a329c2-2103-43cd-9d0a-c01c552ae790",
   "metadata": {},
   "outputs": [
    {
     "data": {
      "text/html": [
       "<div>\n",
       "<style scoped>\n",
       "    .dataframe tbody tr th:only-of-type {\n",
       "        vertical-align: middle;\n",
       "    }\n",
       "\n",
       "    .dataframe tbody tr th {\n",
       "        vertical-align: top;\n",
       "    }\n",
       "\n",
       "    .dataframe thead th {\n",
       "        text-align: right;\n",
       "    }\n",
       "</style>\n",
       "<table border=\"1\" class=\"dataframe\">\n",
       "  <thead>\n",
       "    <tr style=\"text-align: right;\">\n",
       "      <th></th>\n",
       "      <th>x</th>\n",
       "      <th>y</th>\n",
       "    </tr>\n",
       "  </thead>\n",
       "  <tbody>\n",
       "    <tr>\n",
       "      <th>0</th>\n",
       "      <td>1</td>\n",
       "      <td>a</td>\n",
       "    </tr>\n",
       "    <tr>\n",
       "      <th>1</th>\n",
       "      <td>2</td>\n",
       "      <td>a</td>\n",
       "    </tr>\n",
       "    <tr>\n",
       "      <th>2</th>\n",
       "      <td>3</td>\n",
       "      <td>b</td>\n",
       "    </tr>\n",
       "  </tbody>\n",
       "</table>\n",
       "</div>"
      ],
      "text/plain": [
       "   x  y\n",
       "0  1  a\n",
       "1  2  a\n",
       "2  3  b"
      ]
     },
     "execution_count": 11,
     "metadata": {},
     "output_type": "execute_result"
    }
   ],
   "source": [
    "df"
   ]
  },
  {
   "cell_type": "code",
   "execution_count": 120,
   "id": "0d62cea6-9253-4010-bb2b-5980fff1f6c8",
   "metadata": {},
   "outputs": [
    {
     "ename": "TableNotFoundError",
     "evalue": "no log files",
     "output_type": "error",
     "traceback": [
      "\u001b[0;31m---------------------------------------------------------------------------\u001b[0m",
      "\u001b[0;31mTableNotFoundError\u001b[0m                        Traceback (most recent call last)",
      "Cell \u001b[0;32mIn[120], line 1\u001b[0m\n\u001b[0;32m----> 1\u001b[0m a\u001b[38;5;241m=\u001b[39m \u001b[43mDeltaTable\u001b[49m\u001b[43m(\u001b[49m\u001b[38;5;124;43m'\u001b[39;49m\u001b[38;5;124;43mhere\u001b[39;49m\u001b[38;5;124;43m'\u001b[39;49m\u001b[43m)\u001b[49m\n",
      "File \u001b[0;32m~/.local/lib/python3.13/site-packages/deltalake/table.py:420\u001b[0m, in \u001b[0;36mDeltaTable.__init__\u001b[0;34m(self, table_uri, version, storage_options, without_files, log_buffer_size)\u001b[0m\n\u001b[1;32m    400\u001b[0m \u001b[38;5;250m\u001b[39m\u001b[38;5;124;03m\"\"\"\u001b[39;00m\n\u001b[1;32m    401\u001b[0m \u001b[38;5;124;03mCreate the Delta Table from a path with an optional version.\u001b[39;00m\n\u001b[1;32m    402\u001b[0m \u001b[38;5;124;03mMultiple StorageBackends are currently supported: AWS S3, Azure Data Lake Storage Gen2, Google Cloud Storage (GCS) and local URI.\u001b[39;00m\n\u001b[0;32m   (...)\u001b[0m\n\u001b[1;32m    417\u001b[0m \n\u001b[1;32m    418\u001b[0m \u001b[38;5;124;03m\"\"\"\u001b[39;00m\n\u001b[1;32m    419\u001b[0m \u001b[38;5;28mself\u001b[39m\u001b[38;5;241m.\u001b[39m_storage_options \u001b[38;5;241m=\u001b[39m storage_options\n\u001b[0;32m--> 420\u001b[0m \u001b[38;5;28mself\u001b[39m\u001b[38;5;241m.\u001b[39m_table \u001b[38;5;241m=\u001b[39m \u001b[43mRawDeltaTable\u001b[49m\u001b[43m(\u001b[49m\n\u001b[1;32m    421\u001b[0m \u001b[43m    \u001b[49m\u001b[38;5;28;43mstr\u001b[39;49m\u001b[43m(\u001b[49m\u001b[43mtable_uri\u001b[49m\u001b[43m)\u001b[49m\u001b[43m,\u001b[49m\n\u001b[1;32m    422\u001b[0m \u001b[43m    \u001b[49m\u001b[43mversion\u001b[49m\u001b[38;5;241;43m=\u001b[39;49m\u001b[43mversion\u001b[49m\u001b[43m,\u001b[49m\n\u001b[1;32m    423\u001b[0m \u001b[43m    \u001b[49m\u001b[43mstorage_options\u001b[49m\u001b[38;5;241;43m=\u001b[39;49m\u001b[43mstorage_options\u001b[49m\u001b[43m,\u001b[49m\n\u001b[1;32m    424\u001b[0m \u001b[43m    \u001b[49m\u001b[43mwithout_files\u001b[49m\u001b[38;5;241;43m=\u001b[39;49m\u001b[43mwithout_files\u001b[49m\u001b[43m,\u001b[49m\n\u001b[1;32m    425\u001b[0m \u001b[43m    \u001b[49m\u001b[43mlog_buffer_size\u001b[49m\u001b[38;5;241;43m=\u001b[39;49m\u001b[43mlog_buffer_size\u001b[49m\u001b[43m,\u001b[49m\n\u001b[1;32m    426\u001b[0m \u001b[43m\u001b[49m\u001b[43m)\u001b[49m\n",
      "\u001b[0;31mTableNotFoundError\u001b[0m: no log files"
     ]
    }
   ],
   "source": [
    "a= DeltaTable('here')"
   ]
  },
  {
   "cell_type": "code",
   "execution_count": 119,
   "id": "352476eb-2700-497c-8fbf-0bcb582bf244",
   "metadata": {},
   "outputs": [
    {
     "data": {
      "text/html": [
       "<div>\n",
       "<style scoped>\n",
       "    .dataframe tbody tr th:only-of-type {\n",
       "        vertical-align: middle;\n",
       "    }\n",
       "\n",
       "    .dataframe tbody tr th {\n",
       "        vertical-align: top;\n",
       "    }\n",
       "\n",
       "    .dataframe thead th {\n",
       "        text-align: right;\n",
       "    }\n",
       "</style>\n",
       "<table border=\"1\" class=\"dataframe\">\n",
       "  <thead>\n",
       "    <tr style=\"text-align: right;\">\n",
       "      <th></th>\n",
       "      <th>path</th>\n",
       "    </tr>\n",
       "  </thead>\n",
       "  <tbody>\n",
       "    <tr>\n",
       "      <th>0</th>\n",
       "      <td>/home/comicfans/project/delta-rs/.git</td>\n",
       "    </tr>\n",
       "    <tr>\n",
       "      <th>1</th>\n",
       "      <td>/home/comicfans/project/delta-rs/.git/hooks</td>\n",
       "    </tr>\n",
       "    <tr>\n",
       "      <th>2</th>\n",
       "      <td>/home/comicfans/project/delta-rs/.git/hooks/ap...</td>\n",
       "    </tr>\n",
       "    <tr>\n",
       "      <th>3</th>\n",
       "      <td>/home/comicfans/project/delta-rs/.git/hooks/co...</td>\n",
       "    </tr>\n",
       "    <tr>\n",
       "      <th>4</th>\n",
       "      <td>/home/comicfans/project/delta-rs/.git/hooks/po...</td>\n",
       "    </tr>\n",
       "    <tr>\n",
       "      <th>...</th>\n",
       "      <td>...</td>\n",
       "    </tr>\n",
       "    <tr>\n",
       "      <th>996</th>\n",
       "      <td>/home/comicfans/project/delta-rs/crates/test/t...</td>\n",
       "    </tr>\n",
       "    <tr>\n",
       "      <th>997</th>\n",
       "      <td>/home/comicfans/project/delta-rs/crates/test/t...</td>\n",
       "    </tr>\n",
       "    <tr>\n",
       "      <th>998</th>\n",
       "      <td>/home/comicfans/project/delta-rs/crates/test/t...</td>\n",
       "    </tr>\n",
       "    <tr>\n",
       "      <th>999</th>\n",
       "      <td>/home/comicfans/project/delta-rs/crates/test/t...</td>\n",
       "    </tr>\n",
       "    <tr>\n",
       "      <th>1000</th>\n",
       "      <td>/home/comicfans/project/delta-rs/crates/test/t...</td>\n",
       "    </tr>\n",
       "  </tbody>\n",
       "</table>\n",
       "<p>1001 rows × 1 columns</p>\n",
       "</div>"
      ],
      "text/plain": [
       "                                                   path\n",
       "0                 /home/comicfans/project/delta-rs/.git\n",
       "1           /home/comicfans/project/delta-rs/.git/hooks\n",
       "2     /home/comicfans/project/delta-rs/.git/hooks/ap...\n",
       "3     /home/comicfans/project/delta-rs/.git/hooks/co...\n",
       "4     /home/comicfans/project/delta-rs/.git/hooks/po...\n",
       "...                                                 ...\n",
       "996   /home/comicfans/project/delta-rs/crates/test/t...\n",
       "997   /home/comicfans/project/delta-rs/crates/test/t...\n",
       "998   /home/comicfans/project/delta-rs/crates/test/t...\n",
       "999   /home/comicfans/project/delta-rs/crates/test/t...\n",
       "1000  /home/comicfans/project/delta-rs/crates/test/t...\n",
       "\n",
       "[1001 rows x 1 columns]"
      ]
     },
     "execution_count": 119,
     "metadata": {},
     "output_type": "execute_result"
    }
   ],
   "source": [
    "a.to_pandas()"
   ]
  },
  {
   "cell_type": "code",
   "execution_count": 109,
   "id": "ccb7e8b2-fa8c-4068-951a-1e7b5b530e02",
   "metadata": {},
   "outputs": [
    {
     "data": {
      "text/plain": [
       "[]"
      ]
     },
     "execution_count": 109,
     "metadata": {},
     "output_type": "execute_result"
    }
   ],
   "source": [
    "a.vacuum(1)"
   ]
  },
  {
   "cell_type": "code",
   "execution_count": 95,
   "id": "f6da3063-5490-42be-bd86-0b3948d3afd1",
   "metadata": {},
   "outputs": [
    {
     "data": {
      "text/plain": [
       "<Signature (retention_hours: Optional[int] = None, dry_run: bool = True, enforce_retention_duration: bool = True, custom_metadata: Optional[Dict[str, str]] = None, post_commithook_properties: Optional[deltalake.table.PostCommitHookProperties] = None, commit_properties: Optional[deltalake.table.CommitProperties] = None) -> List[str]>"
      ]
     },
     "execution_count": 95,
     "metadata": {},
     "output_type": "execute_result"
    }
   ],
   "source": [
    "inspect.signature(a.vacuum)"
   ]
  },
  {
   "cell_type": "code",
   "execution_count": 108,
   "id": "edde59ea-e7a5-4c3b-b19f-d9967cae11ba",
   "metadata": {},
   "outputs": [
    {
     "data": {
      "text/plain": [
       "{'numFilesAdded': 0,\n",
       " 'numFilesRemoved': 0,\n",
       " 'filesAdded': '{\"avg\":0.0,\"max\":0,\"min\":0,\"totalFiles\":0,\"totalSize\":0}',\n",
       " 'filesRemoved': '{\"avg\":0.0,\"max\":0,\"min\":0,\"totalFiles\":0,\"totalSize\":0}',\n",
       " 'partitionsOptimized': 0,\n",
       " 'numBatches': 0,\n",
       " 'totalConsideredFiles': 1,\n",
       " 'totalFilesSkipped': 1,\n",
       " 'preserveInsertionOrder': True}"
      ]
     },
     "execution_count": 108,
     "metadata": {},
     "output_type": "execute_result"
    }
   ],
   "source": [
    "from datetime import timedelta\n",
    "a.optimize.compact(min_commit_interval= timedelta(minutes=1000))\n"
   ]
  },
  {
   "cell_type": "code",
   "execution_count": null,
   "id": "fe75ec69-5b24-4649-b4e9-37248b7c816d",
   "metadata": {},
   "outputs": [],
   "source": []
  }
 ],
 "metadata": {
  "kernelspec": {
   "display_name": "Python 3 (ipykernel)",
   "language": "python",
   "name": "python3"
  },
  "language_info": {
   "codemirror_mode": {
    "name": "ipython",
    "version": 3
   },
   "file_extension": ".py",
   "mimetype": "text/x-python",
   "name": "python",
   "nbconvert_exporter": "python",
   "pygments_lexer": "ipython3",
   "version": "3.10.12"
  }
 },
 "nbformat": 4,
 "nbformat_minor": 5
}
